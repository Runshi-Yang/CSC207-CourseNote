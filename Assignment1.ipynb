{
  "nbformat": 4,
  "nbformat_minor": 0,
  "metadata": {
    "colab": {
      "name": "Assignment1.ipynb",
      "provenance": [],
      "collapsed_sections": [
        "w7AHM6bt9Jhj",
        "KrRKLlYNUlY7",
        "JXqORphpW0qF",
        "jWwRAn6urBsv"
      ],
      "include_colab_link": true
    },
    "kernelspec": {
      "name": "python3",
      "display_name": "Python 3"
    }
  },
  "cells": [
    {
      "cell_type": "markdown",
      "metadata": {
        "id": "view-in-github",
        "colab_type": "text"
      },
      "source": [
        "<a href=\"https://colab.research.google.com/github/Runshi-Yang/CSC207_CourseNote/blob/main/Assignment1.ipynb\" target=\"_parent\"><img src=\"https://colab.research.google.com/assets/colab-badge.svg\" alt=\"Open In Colab\"/></a>"
      ]
    },
    {
      "cell_type": "markdown",
      "metadata": {
        "id": "w7AHM6bt9Jhj"
      },
      "source": [
        "#Assignment 1: DELVE COVID data \n",
        "\n",
        "## Learning objectives: \n",
        "\n",
        "1.   Understanding the DELVE COVID-19 dataset and how it is displayed in the current notebook\n",
        "2.   Modifying code to update figures\n",
        "3.   Reading in, wrangling, and plotting data on your own!"
      ]
    },
    {
      "cell_type": "markdown",
      "source": [
        "# Part I: DELVE COVID-19 Data Visualization (20 pts)"
      ],
      "metadata": {
        "id": "GwME5g1Wqwfr"
      }
    },
    {
      "cell_type": "markdown",
      "metadata": {
        "id": "jz5xe0EmsQTf"
      },
      "source": [
        "###Go to https://rs-delve.github.io/data_software/global-dataset.html and read about the DELVE Global COVID-19 Dataset. \n",
        "\n",
        "###Open the python notebook which was used to produce the data exploration on the DELVE website ([here](https://colab.research.google.com/github/rs-delve/covid19_datasets/blob/master/Data_Exploration.ipynb)) and review the code that was used. "
      ]
    },
    {
      "cell_type": "markdown",
      "metadata": {
        "id": "aS5hd5U7v5ya"
      },
      "source": [
        "###Now read the DELVE data into colab\n",
        "####Hint: double clicking on the code cells in the DELVE colab, it will show you the code (i.e. the notebook is set to hide the code), you can copy that cell's content ant paste it in the code cell below"
      ]
    },
    {
      "cell_type": "code",
      "metadata": {
        "id": "AVdb-jv9afN0"
      },
      "source": [
        ""
      ],
      "execution_count": null,
      "outputs": []
    },
    {
      "cell_type": "markdown",
      "metadata": {
        "id": "KrRKLlYNUlY7"
      },
      "source": [
        "###Explore the columns of the dataframe using .describe()"
      ]
    },
    {
      "cell_type": "code",
      "metadata": {
        "id": "yRg_JUfIVNR7"
      },
      "source": [
        ""
      ],
      "execution_count": null,
      "outputs": []
    },
    {
      "cell_type": "markdown",
      "metadata": {
        "id": "JXqORphpW0qF"
      },
      "source": [
        "###Now create a new dataframe summarizing average values for each country in each column and display it in the notebook\n",
        "\n"
      ]
    },
    {
      "cell_type": "code",
      "metadata": {
        "id": "ytSqFPhUZLQ3"
      },
      "source": [
        ""
      ],
      "execution_count": null,
      "outputs": []
    },
    {
      "cell_type": "markdown",
      "metadata": {
        "id": "mY-x10JITi8O"
      },
      "source": [
        "###Copy the code which generates the \"Timline of NPI Introduction for Selected Countries\" graph and comment each command describing what was done, e.g.:\n",
        "\n",
        "\n",
        "\n",
        "```\n",
        "## add a column to plot_df which replaces the npi name with its enumerated index value\n",
        "plot_df['value'] = plot_df.NPI.map({npi: i for i, npi in enumerate(npis)})\n",
        "```\n",
        "\n",
        "\n",
        "\n",
        "###Next, change the colors on the graph to group NPIs with the same color in the following way: \n",
        "* all canceling/closures (e.g. \"npi_cancel_public_events\", \"npi_school_closing\",\"npi_close_public_transport\", \"npi_workplace_closing\")\n",
        "* all money-related interventions (e.g. \"npi_income_support\")\n",
        "* all testing and PPE interventions (e.g. \"npi_contact_tracing\", \"npi_masks\")\n",
        "* remaining NPIs (e.g. \"npi_internal_movement_restrict\")\n",
        "\n",
        "######Hint: create a new column in plot_df that you can use for the 'hue' argument in the sns.relplot function\n",
        "\n",
        "###Comment the code you added to make this change\n",
        "\n",
        "### You can include your comments and change in the cell below."
      ]
    },
    {
      "cell_type": "code",
      "metadata": {
        "id": "1Qtv9fKzXsZD"
      },
      "source": [
        ""
      ],
      "execution_count": null,
      "outputs": []
    },
    {
      "cell_type": "markdown",
      "metadata": {
        "id": "mIavrL81E5hL"
      },
      "source": [
        "###In the DELVE data exploration, they add a widget to allow the user to select only data from a specific country to display. Let's add a widget here and only show the data from one country. It's okay if your country-specific graph is simpler than the ones above (e.g. no dashed horizontal line). "
      ]
    },
    {
      "cell_type": "code",
      "metadata": {
        "id": "f4fa-dJG2cu9"
      },
      "source": [
        ""
      ],
      "execution_count": null,
      "outputs": []
    },
    {
      "cell_type": "markdown",
      "source": [
        "# Part II: Create your own COVID-19 Data Visualization\n",
        "* 20 pts for the code + description in this notebook\n",
        "* 20 pts for the 2 pg summary"
      ],
      "metadata": {
        "id": "jWwRAn6urBsv"
      }
    },
    {
      "cell_type": "markdown",
      "metadata": {
        "id": "7qh0mUUeJxF4"
      },
      "source": [
        "###Now find a COVID-19 dataset available online on your own.  Feel free to use whatever data you would like.  If you are having trouble finding data, you can take a look at the sources below:\n",
        "\n",
        "* The U of T library COVID-19 data resource list: https://mdl.library.utoronto.ca/covid-19/data.\n",
        "\n",
        "* Google open COVID-19 data repository: https://health.google.com/covid-19/open-data/raw-data.\n",
        "\n",
        "* Ontario data catalog: https://data.ontario.ca/en/organization/health.\n",
        "\n",
        "* Kaggle: https://www.kaggle.com. \n",
        "\n",
        "###Read the data into this notebook and create a figure with a widget that allows users to interact with the graph.  Also, write a caption in the notebook describing the figure you've created.\n",
        "\n"
      ]
    },
    {
      "cell_type": "code",
      "source": [
        ""
      ],
      "metadata": {
        "id": "_du531lbC3U7"
      },
      "execution_count": null,
      "outputs": []
    },
    {
      "cell_type": "markdown",
      "source": [
        "### Write a 2-page, double spaced report with the following sections:\n",
        "* Background: Description of the data you found\n",
        "* Motivation:  Goal of your visualization \n",
        "* Methods:  A summary of the visualization you created of the data\n",
        "* Conclusion: Conclusions or findings indicated by the visualization you have created \n",
        "\n",
        "### When you are finished, turn in this notebook and the pdf of your report to Quercus.\n",
        "\n",
        "\n"
      ],
      "metadata": {
        "id": "rNoa6N3LCTlj"
      }
    }
  ]
}